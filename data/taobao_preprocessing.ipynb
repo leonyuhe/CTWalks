{
 "cells": [
  {
   "cell_type": "code",
   "execution_count": null,
   "id": "ddf3aa4e",
   "metadata": {},
   "outputs": [],
   "source": [
    "import pandas as pd\n",
    "import numpy as np"
   ]
  },
  {
   "cell_type": "code",
   "execution_count": null,
   "id": "67774d9d",
   "metadata": {},
   "outputs": [],
   "source": [
    "data  = pd.read_csv('UserBehavior.csv', encoding='utf')"
   ]
  },
  {
   "cell_type": "code",
   "execution_count": null,
   "id": "88dcaa72",
   "metadata": {},
   "outputs": [],
   "source": [
    "data.columns = ['user_id', 'item_id', 'category_id', 'behavior', 'time']"
   ]
  },
  {
   "cell_type": "code",
   "execution_count": null,
   "id": "f5f90940",
   "metadata": {},
   "outputs": [],
   "source": [
    "data"
   ]
  },
  {
   "cell_type": "code",
   "execution_count": null,
   "id": "b51e4add",
   "metadata": {},
   "outputs": [],
   "source": [
    "print(len(data['user_id'].unique()))\n",
    "print(len(data['item_id'].unique()))"
   ]
  },
  {
   "cell_type": "markdown",
   "id": "ec1f5709",
   "metadata": {},
   "source": [
    "# One-hot encoding interaction type"
   ]
  },
  {
   "cell_type": "code",
   "execution_count": null,
   "id": "e3b06b8d",
   "metadata": {},
   "outputs": [],
   "source": [
    "data = data.drop(columns=['category_id'])"
   ]
  },
  {
   "cell_type": "code",
   "execution_count": null,
   "id": "037e960b",
   "metadata": {},
   "outputs": [],
   "source": [
    "data"
   ]
  },
  {
   "cell_type": "code",
   "execution_count": null,
   "id": "6137cfd2",
   "metadata": {},
   "outputs": [],
   "source": [
    "data = data[['user_id', 'item_id', 'time', 'behavior']]"
   ]
  },
  {
   "cell_type": "code",
   "execution_count": null,
   "id": "bce44d70",
   "metadata": {},
   "outputs": [],
   "source": [
    "data"
   ]
  },
  {
   "cell_type": "code",
   "execution_count": null,
   "id": "30377e72",
   "metadata": {},
   "outputs": [],
   "source": [
    "one_hot = pd.get_dummies(data['behavior'])\n",
    "one_hot"
   ]
  },
  {
   "cell_type": "code",
   "execution_count": null,
   "id": "39368155",
   "metadata": {},
   "outputs": [],
   "source": [
    "new_data = data.drop(columns=['behavior'])\n",
    "new_data = new_data.join(one_hot)\n",
    "new_data"
   ]
  },
  {
   "cell_type": "markdown",
   "id": "8bad2a00",
   "metadata": {},
   "source": [
    "# Generate the Taobao dataset by selecting the temporal interactions between 2017/11/26 8am and 2017/11/26 6pm"
   ]
  },
  {
   "cell_type": "code",
   "execution_count": null,
   "id": "84c93d5b",
   "metadata": {},
   "outputs": [],
   "source": [
    "from datetime import datetime, date\n",
    "import calendar\n",
    "\n",
    "min_timestamp = datetime.timestamp(datetime.strptime('26/11/2017 - 08:00:00', \"%d/%m/%Y - %H:%M:%S\"))\n",
    "max_timestamp = datetime.timestamp(datetime.strptime('26/11/2017 - 18:00:00', \"%d/%m/%Y - %H:%M:%S\"))\n",
    "min_timestamp = int(min_timestamp)\n",
    "max_timestamp = int(max_timestamp)\n",
    "print(min_timestamp)\n",
    "print(max_timestamp)"
   ]
  },
  {
   "cell_type": "code",
   "execution_count": null,
   "id": "939bc91e",
   "metadata": {},
   "outputs": [],
   "source": [
    "final_data = new_data[min_timestamp <= new_data['time']]\n",
    "final_data = final_data[final_data['time'] <= max_timestamp]\n",
    "final_data"
   ]
  },
  {
   "cell_type": "code",
   "execution_count": null,
   "id": "d7d6dcc7",
   "metadata": {},
   "outputs": [],
   "source": [
    "print(len(final_data['user_id'].unique()))\n",
    "print(len(final_data['item_id'].unique()))"
   ]
  },
  {
   "cell_type": "code",
   "execution_count": null,
   "id": "1094442b",
   "metadata": {},
   "outputs": [],
   "source": [
    "final_data.to_csv('TaobaoSmall.csv', index=False)"
   ]
  }
 ],
 "metadata": {
  "kernelspec": {
   "display_name": "Python 3",
   "language": "python",
   "name": "python3"
  },
  "language_info": {
   "codemirror_mode": {
    "name": "ipython",
    "version": 3
   },
   "file_extension": ".py",
   "mimetype": "text/x-python",
   "name": "python",
   "nbconvert_exporter": "python",
   "pygments_lexer": "ipython3",
   "version": "3.8.5"
  }
 },
 "nbformat": 4,
 "nbformat_minor": 5
}
